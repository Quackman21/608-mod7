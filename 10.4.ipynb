{
 "cells": [
  {
   "cell_type": "code",
   "execution_count": 1,
   "id": "8945c872-1180-4943-9f73-a6eae465992c",
   "metadata": {},
   "outputs": [],
   "source": [
    "from timewithproperties import Time"
   ]
  },
  {
   "cell_type": "code",
   "execution_count": 2,
   "id": "ea157913-42e7-4c46-9fdf-b2755b86e963",
   "metadata": {},
   "outputs": [],
   "source": [
    "wake_up = Time(hour=6, minute=30)"
   ]
  },
  {
   "cell_type": "code",
   "execution_count": 3,
   "id": "1479ce2a-ae8a-447e-bc79-bdfdcea23c05",
   "metadata": {},
   "outputs": [
    {
     "data": {
      "text/plain": [
       "Time(hour=6, minute=30, second=0)"
      ]
     },
     "execution_count": 3,
     "metadata": {},
     "output_type": "execute_result"
    }
   ],
   "source": [
    "wake_up"
   ]
  },
  {
   "cell_type": "code",
   "execution_count": 5,
   "id": "752e1b42-0244-47ef-8695-8e5b42c83a39",
   "metadata": {},
   "outputs": [
    {
     "name": "stdout",
     "output_type": "stream",
     "text": [
      "6:30:00 AM\n"
     ]
    }
   ],
   "source": [
    "print(wake_up)"
   ]
  },
  {
   "cell_type": "code",
   "execution_count": 6,
   "id": "1d35aa65-f90e-4786-8a88-7cfeb1eeee5b",
   "metadata": {},
   "outputs": [
    {
     "data": {
      "text/plain": [
       "6"
      ]
     },
     "execution_count": 6,
     "metadata": {},
     "output_type": "execute_result"
    }
   ],
   "source": [
    "wake_up.hour"
   ]
  },
  {
   "cell_type": "code",
   "execution_count": 7,
   "id": "ad610f99-35d1-4129-a93d-3d1b5915bc27",
   "metadata": {},
   "outputs": [],
   "source": [
    "wake_up.set_time(hour=7, minute=45)"
   ]
  },
  {
   "cell_type": "code",
   "execution_count": 8,
   "id": "33be30ee-8f45-4202-92c7-d28933591fab",
   "metadata": {},
   "outputs": [
    {
     "data": {
      "text/plain": [
       "Time(hour=7, minute=45, second=0)"
      ]
     },
     "execution_count": 8,
     "metadata": {},
     "output_type": "execute_result"
    }
   ],
   "source": [
    "wake_up"
   ]
  },
  {
   "cell_type": "code",
   "execution_count": 9,
   "id": "091fbac0-e9a3-4cad-9cf0-3bafc63f4628",
   "metadata": {},
   "outputs": [],
   "source": [
    "wake_up.hour = 6"
   ]
  },
  {
   "cell_type": "code",
   "execution_count": 10,
   "id": "1d4682f1-7ff2-445d-8298-6daeca762ed2",
   "metadata": {},
   "outputs": [
    {
     "data": {
      "text/plain": [
       "Time(hour=6, minute=45, second=0)"
      ]
     },
     "execution_count": 10,
     "metadata": {},
     "output_type": "execute_result"
    }
   ],
   "source": [
    "wake_up"
   ]
  },
  {
   "cell_type": "code",
   "execution_count": 11,
   "id": "780f34b3-a4ba-4093-8723-e49bbd921da0",
   "metadata": {},
   "outputs": [
    {
     "ename": "ValueError",
     "evalue": "Hour (100) must be 0-23",
     "output_type": "error",
     "traceback": [
      "\u001b[0;31m---------------------------------------------------------------------------\u001b[0m",
      "\u001b[0;31mValueError\u001b[0m                                Traceback (most recent call last)",
      "\u001b[0;32m<ipython-input-11-1fce0716ef14>\u001b[0m in \u001b[0;36m<module>\u001b[0;34m\u001b[0m\n\u001b[0;32m----> 1\u001b[0;31m \u001b[0mwake_up\u001b[0m\u001b[0;34m.\u001b[0m\u001b[0mhour\u001b[0m \u001b[0;34m=\u001b[0m \u001b[0;36m100\u001b[0m\u001b[0;34m\u001b[0m\u001b[0;34m\u001b[0m\u001b[0m\n\u001b[0m",
      "\u001b[0;32m~/Documents/44-608/608-mod7/ch10/timewithproperties.py\u001b[0m in \u001b[0;36mhour\u001b[0;34m(self, hour)\u001b[0m\n\u001b[1;32m     20\u001b[0m         \u001b[0;34m\"\"\"Set the hour.\"\"\"\u001b[0m\u001b[0;34m\u001b[0m\u001b[0;34m\u001b[0m\u001b[0m\n\u001b[1;32m     21\u001b[0m         \u001b[0;32mif\u001b[0m \u001b[0;32mnot\u001b[0m \u001b[0;34m(\u001b[0m\u001b[0;36m0\u001b[0m \u001b[0;34m<=\u001b[0m \u001b[0mhour\u001b[0m \u001b[0;34m<\u001b[0m \u001b[0;36m24\u001b[0m\u001b[0;34m)\u001b[0m\u001b[0;34m:\u001b[0m\u001b[0;34m\u001b[0m\u001b[0;34m\u001b[0m\u001b[0m\n\u001b[0;32m---> 22\u001b[0;31m             \u001b[0;32mraise\u001b[0m \u001b[0mValueError\u001b[0m\u001b[0;34m(\u001b[0m\u001b[0;34mf'Hour ({hour}) must be 0-23'\u001b[0m\u001b[0;34m)\u001b[0m\u001b[0;34m\u001b[0m\u001b[0;34m\u001b[0m\u001b[0m\n\u001b[0m\u001b[1;32m     23\u001b[0m \u001b[0;34m\u001b[0m\u001b[0m\n\u001b[1;32m     24\u001b[0m         \u001b[0mself\u001b[0m\u001b[0;34m.\u001b[0m\u001b[0m_hour\u001b[0m \u001b[0;34m=\u001b[0m \u001b[0mhour\u001b[0m\u001b[0;34m\u001b[0m\u001b[0;34m\u001b[0m\u001b[0m\n",
      "\u001b[0;31mValueError\u001b[0m: Hour (100) must be 0-23"
     ]
    }
   ],
   "source": [
    "wake_up.hour = 100"
   ]
  },
  {
   "cell_type": "code",
   "execution_count": 16,
   "id": "b2ace5cc-94b7-4207-a23b-a0d59857bfb6",
   "metadata": {},
   "outputs": [],
   "source": [
    "# timewithproperties.py\n",
    "\"\"\"Class Time with read-write properties.\"\"\"\n",
    "\n",
    "class Time:\n",
    "    \"\"\"Class Time with read-write properties.\"\"\"\n",
    "\n",
    "    def __init__(self, hour=0, minute=0, second=0):\n",
    "        \"\"\"Initialize each attribute.\"\"\"\n",
    "        self.hour = hour  # 0-23\n",
    "        self.minute = minute  # 0-59\n",
    "        self.second = second  # 0-59\n",
    "\n",
    "    @property\n",
    "    def hour(self):\n",
    "        \"\"\"Return the hour.\"\"\"\n",
    "        return self._hour\n",
    "\n",
    "    @hour.setter\n",
    "    def hour(self, hour):\n",
    "        \"\"\"Set the hour.\"\"\"\n",
    "        if not (0 <= hour < 24):\n",
    "            raise ValueError(f'Hour ({hour}) must be 0-23')\n",
    "\n",
    "        self._hour = hour\n",
    "\n",
    "        @property\n",
    "        def minute(self):\n",
    "            \"\"\"Return the minute.\"\"\"\n",
    "            return self._minute\n",
    "\n",
    "        @minute.setter\n",
    "        def minute(self, minute):\n",
    "            \"\"\"Set the minute.\"\"\"\n",
    "            if not (0 <= minute < 60):\n",
    "                raise ValueError(f'Minute ({minute}) must be 0-59')\n",
    "\n",
    "                self._minute = minute\n",
    "\n",
    "        @property\n",
    "        def second(self):\n",
    "            \"\"\"Return the second.\"\"\"\n",
    "            return self._second\n",
    "\n",
    "        @second.setter\n",
    "        def second(self, second):\n",
    "            \"\"\"Set the second.\"\"\"\n",
    "            if not (0 <= second < 60):\n",
    "                raise ValueError(f'Second ({second}) must be 0-59')\n",
    "\n",
    "                self._second = second\n",
    "                    \n",
    "        def set_time(self, hour=0, minute=0, second=0):\n",
    "            \"\"\"Set values of hour, minute, and second.\"\"\"\n",
    "            self.hour = hour\n",
    "            self.minute = minute\n",
    "            self.second = second\n",
    "            \n",
    "        def __repr__(self):\n",
    "            \"\"\"Return Time string for repr().\"\"\"\n",
    "            return (f'Time(hour={self.hour}, minute={self.minute}, ' +\n",
    "                    f'second={self.second})')\n",
    "\n",
    "        def __str__(self):\n",
    "            \"\"\"Print Time in 12-hour clock format.\"\"\"\n",
    "            return (('12' if self.hour in (0, 12) else str(self.hour % 12)) +\n",
    "                    f':{self.minute:0>2}:{self.second:0>2}' +\n",
    "                    (' AM' if self.hour < 12 else ' PM'))"
   ]
  },
  {
   "cell_type": "code",
   "execution_count": 17,
   "id": "7b6544cc-cf4e-4e3d-8163-f7b72909c01f",
   "metadata": {},
   "outputs": [],
   "source": [
    "@property\n",
    "def time(self):\n",
    "    \"\"\"Return hour, minute and second as a tuple.\"\"\"\n",
    "    return (self.hour, self.minute, self.second)\n",
    "\n",
    "@time.setter\n",
    "def time(self, time_tuple):\n",
    "    \"\"\"Set time from a tuple containing hour, minute and second.\"\"\"\n",
    "    self.set_time(time_tuple[0], time_tuple[1], time_tuple[2])\n"
   ]
  },
  {
   "cell_type": "code",
   "execution_count": 18,
   "id": "48725f13-ea2d-48ae-b829-5d2bbad7b61b",
   "metadata": {},
   "outputs": [],
   "source": [
    "from timewithproperties import Time"
   ]
  },
  {
   "cell_type": "code",
   "execution_count": 26,
   "id": "82513136-6d44-49bc-85f4-39e378b77a62",
   "metadata": {},
   "outputs": [],
   "source": [
    " t = Time()"
   ]
  },
  {
   "cell_type": "code",
   "execution_count": 27,
   "id": "8687633f-a596-4173-a11f-771941093fcb",
   "metadata": {},
   "outputs": [
    {
     "data": {
      "text/plain": [
       "Time(hour=0, minute=0, second=0)"
      ]
     },
     "execution_count": 27,
     "metadata": {},
     "output_type": "execute_result"
    }
   ],
   "source": [
    "t"
   ]
  },
  {
   "cell_type": "code",
   "execution_count": 28,
   "id": "18874843-af40-4e31-9ce0-21b0c2a65056",
   "metadata": {},
   "outputs": [],
   "source": [
    "t.time = (12, 30, 45)"
   ]
  },
  {
   "cell_type": "code",
   "execution_count": 29,
   "id": "204fd3cd-3300-40c8-b6e5-4b3f2898760a",
   "metadata": {},
   "outputs": [
    {
     "data": {
      "text/plain": [
       "Time(hour=0, minute=0, second=0)"
      ]
     },
     "execution_count": 29,
     "metadata": {},
     "output_type": "execute_result"
    }
   ],
   "source": [
    "t"
   ]
  },
  {
   "cell_type": "code",
   "execution_count": 30,
   "id": "f6825c87-61ce-412c-9f83-e330a009a9fc",
   "metadata": {},
   "outputs": [
    {
     "data": {
      "text/plain": [
       "(12, 30, 45)"
      ]
     },
     "execution_count": 30,
     "metadata": {},
     "output_type": "execute_result"
    }
   ],
   "source": [
    "t.time"
   ]
  },
  {
   "cell_type": "code",
   "execution_count": 31,
   "id": "c21a4b96-c1aa-488b-b4ca-8003c2981906",
   "metadata": {},
   "outputs": [],
   "source": [
    "from timewithproperties import Time"
   ]
  },
  {
   "cell_type": "code",
   "execution_count": 32,
   "id": "38ff0ba4-8bb7-4d19-ac9b-37f5529b58ee",
   "metadata": {},
   "outputs": [],
   "source": [
    "wake_up = Time(hour=7, minute=45, second=30)\n"
   ]
  },
  {
   "cell_type": "code",
   "execution_count": 33,
   "id": "9f883f52-1f3f-4311-869d-4e250f2d6861",
   "metadata": {},
   "outputs": [
    {
     "data": {
      "text/plain": [
       "7"
      ]
     },
     "execution_count": 33,
     "metadata": {},
     "output_type": "execute_result"
    }
   ],
   "source": [
    "wake_up._hour"
   ]
  },
  {
   "cell_type": "code",
   "execution_count": 34,
   "id": "6b42958e-9a70-4842-a693-729997ae5fe5",
   "metadata": {},
   "outputs": [],
   "source": [
    "wake_up._hour = 100"
   ]
  },
  {
   "cell_type": "code",
   "execution_count": 35,
   "id": "b0cc0f49-e3ab-47ea-b975-30055f15fff2",
   "metadata": {},
   "outputs": [
    {
     "data": {
      "text/plain": [
       "Time(hour=100, minute=45, second=30)"
      ]
     },
     "execution_count": 35,
     "metadata": {},
     "output_type": "execute_result"
    }
   ],
   "source": [
    "wake_up"
   ]
  },
  {
   "cell_type": "code",
   "execution_count": null,
   "id": "b800b25d-e36e-4956-9464-1fdc8c486c10",
   "metadata": {},
   "outputs": [],
   "source": [
    "#Ivan Quackenbush"
   ]
  }
 ],
 "metadata": {
  "kernelspec": {
   "display_name": "Python 3",
   "language": "python",
   "name": "python3"
  },
  "language_info": {
   "codemirror_mode": {
    "name": "ipython",
    "version": 3
   },
   "file_extension": ".py",
   "mimetype": "text/x-python",
   "name": "python",
   "nbconvert_exporter": "python",
   "pygments_lexer": "ipython3",
   "version": "3.7.13"
  }
 },
 "nbformat": 4,
 "nbformat_minor": 5
}
