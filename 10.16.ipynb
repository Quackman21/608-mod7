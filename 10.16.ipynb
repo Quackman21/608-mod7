{
 "cells": [
  {
   "cell_type": "code",
   "execution_count": 1,
   "id": "bb198222-a473-452d-8322-978aba8d795f",
   "metadata": {},
   "outputs": [],
   "source": [
    "c = lambda f: 5 / 9 * (f - 32)"
   ]
  },
  {
   "cell_type": "code",
   "execution_count": 2,
   "id": "48ef21e2-0307-41ce-95a9-86127efdb13b",
   "metadata": {},
   "outputs": [],
   "source": [
    "temps = [(f, c(f)) for f in range(0, 101, 10)]"
   ]
  },
  {
   "cell_type": "code",
   "execution_count": 3,
   "id": "c94597c0-16c8-4559-837d-d874bc821343",
   "metadata": {},
   "outputs": [],
   "source": [
    "import pandas as pd"
   ]
  },
  {
   "cell_type": "code",
   "execution_count": 4,
   "id": "fa7a6b48-998f-4017-b0f0-b52623378bc8",
   "metadata": {},
   "outputs": [],
   "source": [
    "temps_df = pd.DataFrame(temps, columns=['Fahrenheit', 'Celsius'])"
   ]
  },
  {
   "cell_type": "code",
   "execution_count": 5,
   "id": "bef832af-db25-420e-83a5-b14aecd0085c",
   "metadata": {},
   "outputs": [
    {
     "data": {
      "image/png": "[encoded data removed]",
      "text/plain": [
       "<Figure size 432x288 with 1 Axes>"
      ]
     },
     "metadata": {
      "needs_background": "light"
     },
     "output_type": "display_data"
    }
   ],
   "source": [
    "axes = temps_df.plot(x='Fahrenheit', y='Celsius', style='.-')"
   ]
  },
  {
   "cell_type": "code",
   "execution_count": 6,
   "id": "23e6690f-13d0-499b-925d-de1e34546355",
   "metadata": {},
   "outputs": [],
   "source": [
    "y_label = axes.set_ylabel('Celsius')"
   ]
  },
  {
   "cell_type": "code",
   "execution_count": 7,
   "id": "a4edef55-2427-49bd-82e2-86749a906d58",
   "metadata": {},
   "outputs": [],
   "source": [
    "nyc = pd.read_csv('ave_hi_nyc_jan_1895-2018.csv')"
   ]
  },
  {
   "cell_type": "code",
   "execution_count": 8,
   "id": "380a3c4c-7f3d-44ac-b01a-2f56c3c4f58c",
   "metadata": {},
   "outputs": [
    {
     "data": {
      "text/html": [
       "<div>\n",
       "<style scoped>\n",
       "    .dataframe tbody tr th:only-of-type {\n",
       "        vertical-align: middle;\n",
       "    }\n",
       "\n",
       "    .dataframe tbody tr th {\n",
       "        vertical-align: top;\n",
       "    }\n",
       "\n",
       "    .dataframe thead th {\n",
       "        text-align: right;\n",
       "    }\n",
       "</style>\n",
       "<table border=\"1\" class=\"dataframe\">\n",
       "  <thead>\n",
       "    <tr style=\"text-align: right;\">\n",
       "      <th></th>\n",
       "      <th>Date</th>\n",
       "      <th>Value</th>\n",
       "      <th>Anomaly</th>\n",
       "    </tr>\n",
       "  </thead>\n",
       "  <tbody>\n",
       "    <tr>\n",
       "      <th>0</th>\n",
       "      <td>189501</td>\n",
       "      <td>34.2</td>\n",
       "      <td>-3.2</td>\n",
       "    </tr>\n",
       "    <tr>\n",
       "      <th>1</th>\n",
       "      <td>189601</td>\n",
       "      <td>34.7</td>\n",
       "      <td>-2.7</td>\n",
       "    </tr>\n",
       "    <tr>\n",
       "      <th>2</th>\n",
       "      <td>189701</td>\n",
       "      <td>35.5</td>\n",
       "      <td>-1.9</td>\n",
       "    </tr>\n",
       "    <tr>\n",
       "      <th>3</th>\n",
       "      <td>189801</td>\n",
       "      <td>39.6</td>\n",
       "      <td>2.2</td>\n",
       "    </tr>\n",
       "    <tr>\n",
       "      <th>4</th>\n",
       "      <td>189901</td>\n",
       "      <td>36.4</td>\n",
       "      <td>-1.0</td>\n",
       "    </tr>\n",
       "  </tbody>\n",
       "</table>\n",
       "</div>"
      ],
      "text/plain": [
       "     Date  Value  Anomaly\n",
       "0  189501   34.2     -3.2\n",
       "1  189601   34.7     -2.7\n",
       "2  189701   35.5     -1.9\n",
       "3  189801   39.6      2.2\n",
       "4  189901   36.4     -1.0"
      ]
     },
     "execution_count": 8,
     "metadata": {},
     "output_type": "execute_result"
    }
   ],
   "source": [
    "nyc.head()"
   ]
  },
  {
   "cell_type": "code",
   "execution_count": 9,
   "id": "a748940c-0bc4-418e-8481-09f09d6ef4c4",
   "metadata": {},
   "outputs": [],
   "source": [
    "nyc.columns = ['Date', 'Temperature', 'Anomaly']"
   ]
  },
  {
   "cell_type": "code",
   "execution_count": 10,
   "id": "3db718fc-5e91-4ca3-9bc6-cd2d60adc66a",
   "metadata": {},
   "outputs": [
    {
     "data": {
      "text/html": [
       "<div>\n",
       "<style scoped>\n",
       "    .dataframe tbody tr th:only-of-type {\n",
       "        vertical-align: middle;\n",
       "    }\n",
       "\n",
       "    .dataframe tbody tr th {\n",
       "        vertical-align: top;\n",
       "    }\n",
       "\n",
       "    .dataframe thead th {\n",
       "        text-align: right;\n",
       "    }\n",
       "</style>\n",
       "<table border=\"1\" class=\"dataframe\">\n",
       "  <thead>\n",
       "    <tr style=\"text-align: right;\">\n",
       "      <th></th>\n",
       "      <th>Date</th>\n",
       "      <th>Temperature</th>\n",
       "      <th>Anomaly</th>\n",
       "    </tr>\n",
       "  </thead>\n",
       "  <tbody>\n",
       "    <tr>\n",
       "      <th>0</th>\n",
       "      <td>189501</td>\n",
       "      <td>34.2</td>\n",
       "      <td>-3.2</td>\n",
       "    </tr>\n",
       "    <tr>\n",
       "      <th>1</th>\n",
       "      <td>189601</td>\n",
       "      <td>34.7</td>\n",
       "      <td>-2.7</td>\n",
       "    </tr>\n",
       "    <tr>\n",
       "      <th>2</th>\n",
       "      <td>189701</td>\n",
       "      <td>35.5</td>\n",
       "      <td>-1.9</td>\n",
       "    </tr>\n",
       "  </tbody>\n",
       "</table>\n",
       "</div>"
      ],
      "text/plain": [
       "     Date  Temperature  Anomaly\n",
       "0  189501         34.2     -3.2\n",
       "1  189601         34.7     -2.7\n",
       "2  189701         35.5     -1.9"
      ]
     },
     "execution_count": 10,
     "metadata": {},
     "output_type": "execute_result"
    }
   ],
   "source": [
    "nyc.head(3)"
   ]
  },
  {
   "cell_type": "code",
   "execution_count": 11,
   "id": "c0e32cd0-1ee8-414a-813a-892622dcf7e6",
   "metadata": {},
   "outputs": [
    {
     "data": {
      "text/plain": [
       "dtype('int64')"
      ]
     },
     "execution_count": 11,
     "metadata": {},
     "output_type": "execute_result"
    }
   ],
   "source": [
    "nyc.Date.dtype"
   ]
  },
  {
   "cell_type": "code",
   "execution_count": 12,
   "id": "49002c02-40af-444e-aa0e-109c0f91b58a",
   "metadata": {},
   "outputs": [],
   "source": [
    "nyc.Date = nyc.Date.floordiv(100)"
   ]
  },
  {
   "cell_type": "code",
   "execution_count": 13,
   "id": "1b74178a-847c-466c-bdad-a7a39cbe7ed0",
   "metadata": {},
   "outputs": [
    {
     "data": {
      "text/html": [
       "<div>\n",
       "<style scoped>\n",
       "    .dataframe tbody tr th:only-of-type {\n",
       "        vertical-align: middle;\n",
       "    }\n",
       "\n",
       "    .dataframe tbody tr th {\n",
       "        vertical-align: top;\n",
       "    }\n",
       "\n",
       "    .dataframe thead th {\n",
       "        text-align: right;\n",
       "    }\n",
       "</style>\n",
       "<table border=\"1\" class=\"dataframe\">\n",
       "  <thead>\n",
       "    <tr style=\"text-align: right;\">\n",
       "      <th></th>\n",
       "      <th>Date</th>\n",
       "      <th>Temperature</th>\n",
       "      <th>Anomaly</th>\n",
       "    </tr>\n",
       "  </thead>\n",
       "  <tbody>\n",
       "    <tr>\n",
       "      <th>0</th>\n",
       "      <td>1895</td>\n",
       "      <td>34.2</td>\n",
       "      <td>-3.2</td>\n",
       "    </tr>\n",
       "    <tr>\n",
       "      <th>1</th>\n",
       "      <td>1896</td>\n",
       "      <td>34.7</td>\n",
       "      <td>-2.7</td>\n",
       "    </tr>\n",
       "    <tr>\n",
       "      <th>2</th>\n",
       "      <td>1897</td>\n",
       "      <td>35.5</td>\n",
       "      <td>-1.9</td>\n",
       "    </tr>\n",
       "  </tbody>\n",
       "</table>\n",
       "</div>"
      ],
      "text/plain": [
       "   Date  Temperature  Anomaly\n",
       "0  1895         34.2     -3.2\n",
       "1  1896         34.7     -2.7\n",
       "2  1897         35.5     -1.9"
      ]
     },
     "execution_count": 13,
     "metadata": {},
     "output_type": "execute_result"
    }
   ],
   "source": [
    "nyc.head(3)"
   ]
  },
  {
   "cell_type": "code",
   "execution_count": 14,
   "id": "665b32cb-8fba-4185-aab7-795c04dc3f09",
   "metadata": {},
   "outputs": [],
   "source": [
    "pd.set_option('precision', 2)"
   ]
  },
  {
   "cell_type": "code",
   "execution_count": 15,
   "id": "a4adbe06-6840-4f46-851e-a6d9998c7eba",
   "metadata": {},
   "outputs": [
    {
     "data": {
      "text/plain": [
       "count    124.00\n",
       "mean      37.60\n",
       "std        4.54\n",
       "min       26.10\n",
       "25%       34.58\n",
       "50%       37.60\n",
       "75%       40.60\n",
       "max       47.60\n",
       "Name: Temperature, dtype: float64"
      ]
     },
     "execution_count": 15,
     "metadata": {},
     "output_type": "execute_result"
    }
   ],
   "source": [
    "nyc.Temperature.describe()"
   ]
  },
  {
   "cell_type": "code",
   "execution_count": 16,
   "id": "23e2e332-4f79-4b94-8115-9dac8cdd24b6",
   "metadata": {},
   "outputs": [],
   "source": [
    "from scipy import stats"
   ]
  },
  {
   "cell_type": "code",
   "execution_count": 17,
   "id": "02d12213-9a89-4682-979b-be174a109fc4",
   "metadata": {},
   "outputs": [],
   "source": [
    "linear_regression = stats.linregress(x=nyc.Date,\n",
    "                                     \n",
    "y=nyc.Temperature)"
   ]
  },
  {
   "cell_type": "code",
   "execution_count": 18,
   "id": "507f7bac-a4e0-42be-893b-101f70e4c52c",
   "metadata": {},
   "outputs": [
    {
     "data": {
      "text/plain": [
       "0.014771361132966163"
      ]
     },
     "execution_count": 18,
     "metadata": {},
     "output_type": "execute_result"
    }
   ],
   "source": [
    "linear_regression.slope"
   ]
  },
  {
   "cell_type": "code",
   "execution_count": 19,
   "id": "cde872df-f3ea-4d70-ba80-087b222defb0",
   "metadata": {},
   "outputs": [
    {
     "data": {
      "text/plain": [
       "8.694993233674289"
      ]
     },
     "execution_count": 19,
     "metadata": {},
     "output_type": "execute_result"
    }
   ],
   "source": [
    "linear_regression.intercept"
   ]
  },
  {
   "cell_type": "code",
   "execution_count": 20,
   "id": "d79b661e-9cea-4406-8e57-ed75eb35188d",
   "metadata": {},
   "outputs": [
    {
     "data": {
      "text/plain": [
       "38.51837136113297"
      ]
     },
     "execution_count": 20,
     "metadata": {},
     "output_type": "execute_result"
    }
   ],
   "source": [
    "linear_regression.slope * 2019 + linear_regression.intercept"
   ]
  },
  {
   "cell_type": "code",
   "execution_count": 21,
   "id": "758ad224-ae8a-481d-89d9-7346671e88d2",
   "metadata": {},
   "outputs": [
    {
     "data": {
      "text/plain": [
       "36.612865774980335"
      ]
     },
     "execution_count": 21,
     "metadata": {},
     "output_type": "execute_result"
    }
   ],
   "source": [
    "linear_regression.slope * 1890 + linear_regression.intercept"
   ]
  },
  {
   "cell_type": "code",
   "execution_count": 22,
   "id": "4b67f46d-8366-4666-8624-2e377e3fed42",
   "metadata": {},
   "outputs": [],
   "source": [
    "import seaborn as sns"
   ]
  },
  {
   "cell_type": "code",
   "execution_count": 23,
   "id": "c20f4d88-0109-47c6-bffc-cbf1f9f137b2",
   "metadata": {},
   "outputs": [],
   "source": [
    "sns.set_style('whitegrid')"
   ]
  },
  {
   "cell_type": "code",
   "execution_count": 24,
   "id": "6745c567-4b1b-4339-9023-07a8f059f791",
   "metadata": {},
   "outputs": [
    {
     "data": {
      "image/png": "[encoded data removed]",
      "text/plain": [
       "<Figure size 432x288 with 1 Axes>"
      ]
     },
     "metadata": {},
     "output_type": "display_data"
    }
   ],
   "source": [
    "axes = sns.regplot(x=nyc.Date, y=nyc.Temperature)"
   ]
  },
  {
   "cell_type": "code",
   "execution_count": 25,
   "id": "6ce59f5c-a581-4311-bd44-af825f1eea19",
   "metadata": {},
   "outputs": [
    {
     "data": {
      "text/plain": [
       "(10.0, 70.0)"
      ]
     },
     "execution_count": 25,
     "metadata": {},
     "output_type": "execute_result"
    }
   ],
   "source": [
    "axes.set_ylim(10, 70)"
   ]
  },
  {
   "cell_type": "code",
   "execution_count": 26,
   "id": "ffcfd6b4-f5e0-49e6-be98-cf960b2c60d6",
   "metadata": {},
   "outputs": [],
   "source": [
    "year = 2019"
   ]
  },
  {
   "cell_type": "code",
   "execution_count": 27,
   "id": "99806244-8313-46b1-96fb-3fe39cc51a4c",
   "metadata": {},
   "outputs": [],
   "source": [
    "slope = linear_regression.slope"
   ]
  },
  {
   "cell_type": "code",
   "execution_count": 28,
   "id": "91fae280-9884-4caf-8578-a15562bdf0ac",
   "metadata": {},
   "outputs": [],
   "source": [
    "intercept = linear_regression.intercept"
   ]
  },
  {
   "cell_type": "code",
   "execution_count": 29,
   "id": "44705fa6-f1e8-483f-b4fe-ce488f2bda95",
   "metadata": {},
   "outputs": [],
   "source": [
    "temperature = slope * year + intercept"
   ]
  },
  {
   "cell_type": "code",
   "execution_count": 30,
   "id": "1587d80c-29df-4b7c-9a57-8301f0e557bd",
   "metadata": {},
   "outputs": [],
   "source": [
    "while temperature < 40.0:\n",
    "    year += 1\n",
    "    temperature = slope * year + intercept"
   ]
  },
  {
   "cell_type": "code",
   "execution_count": 31,
   "id": "b92fae4c-77fa-43c1-ad4f-3157e2c62468",
   "metadata": {},
   "outputs": [
    {
     "data": {
      "text/plain": [
       "2120"
      ]
     },
     "execution_count": 31,
     "metadata": {},
     "output_type": "execute_result"
    }
   ],
   "source": [
    "year"
   ]
  },
  {
   "cell_type": "code",
   "execution_count": null,
   "id": "dafc0d25-23ba-4c82-a535-82fa46997d09",
   "metadata": {},
   "outputs": [],
   "source": [
    "#IvanQuackenbush"
   ]
  }
 ],
 "metadata": {
  "kernelspec": {
   "display_name": "Python 3",
   "language": "python",
   "name": "python3"
  },
  "language_info": {
   "codemirror_mode": {
    "name": "ipython",
    "version": 3
   },
   "file_extension": ".py",
   "mimetype": "text/x-python",
   "name": "python",
   "nbconvert_exporter": "python",
   "pygments_lexer": "ipython3",
   "version": "3.7.13"
  }
 },
 "nbformat": 4,
 "nbformat_minor": 5
}
