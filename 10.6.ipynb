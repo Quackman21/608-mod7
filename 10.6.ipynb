{
 "cells": [
  {
   "cell_type": "code",
   "execution_count": 1,
   "id": "423367e2-707e-42ab-9547-2c004a71e5ac",
   "metadata": {},
   "outputs": [],
   "source": [
    "from deck import DeckOfCards"
   ]
  },
  {
   "cell_type": "code",
   "execution_count": 2,
   "id": "b2c7062c-3c22-4fce-8cfc-c2a563353ebb",
   "metadata": {},
   "outputs": [],
   "source": [
    "deck_of_cards = DeckOfCards()"
   ]
  },
  {
   "cell_type": "code",
   "execution_count": 4,
   "id": "9f694810-22de-488d-b6ed-1b5d63aaab21",
   "metadata": {},
   "outputs": [
    {
     "name": "stdout",
     "output_type": "stream",
     "text": [
      "Ace of Hearts      2 of Hearts        3 of Hearts        4 of Hearts        \n",
      "5 of Hearts        6 of Hearts        7 of Hearts        8 of Hearts        \n",
      "9 of Hearts        10 of Hearts       Jack of Hearts     Queen of Hearts    \n",
      "King of Hearts     Ace of Diamonds    2 of Diamonds      3 of Diamonds      \n",
      "4 of Diamonds      5 of Diamonds      6 of Diamonds      7 of Diamonds      \n",
      "8 of Diamonds      9 of Diamonds      10 of Diamonds     Jack of Diamonds   \n",
      "Queen of Diamonds  King of Diamonds   Ace of Clubs       2 of Clubs         \n",
      "3 of Clubs         4 of Clubs         5 of Clubs         6 of Clubs         \n",
      "7 of Clubs         8 of Clubs         9 of Clubs         10 of Clubs        \n",
      "Jack of Clubs      Queen of Clubs     King of Clubs      Ace of Spades      \n",
      "2 of Spades        3 of Spades        4 of Spades        5 of Spades        \n",
      "6 of Spades        7 of Spades        8 of Spades        9 of Spades        \n",
      "10 of Spades       Jack of Spades     Queen of Spades    King of Spades     \n",
      "\n"
     ]
    }
   ],
   "source": [
    "print(deck_of_cards)"
   ]
  },
  {
   "cell_type": "code",
   "execution_count": 5,
   "id": "e4a0801d-efb2-4c4b-8c09-5e73e9517866",
   "metadata": {},
   "outputs": [],
   "source": [
    "deck_of_cards.shuffle()"
   ]
  },
  {
   "cell_type": "code",
   "execution_count": 6,
   "id": "9bb6aee1-109e-43c1-b946-fd861f8f54a3",
   "metadata": {},
   "outputs": [
    {
     "name": "stdout",
     "output_type": "stream",
     "text": [
      "Ace of Diamonds    Queen of Clubs     3 of Clubs         5 of Spades        \n",
      "5 of Hearts        5 of Diamonds      8 of Hearts        10 of Clubs        \n",
      "3 of Diamonds      8 of Clubs         Jack of Spades     10 of Hearts       \n",
      "King of Spades     Queen of Diamonds  2 of Diamonds      Ace of Clubs       \n",
      "King of Hearts     6 of Hearts        Jack of Diamonds   9 of Diamonds      \n",
      "Queen of Spades    7 of Hearts        4 of Hearts        6 of Spades        \n",
      "3 of Spades        9 of Hearts        Jack of Hearts     3 of Hearts        \n",
      "6 of Clubs         4 of Spades        Ace of Hearts      10 of Spades       \n",
      "Queen of Hearts    2 of Spades        5 of Clubs         Jack of Clubs      \n",
      "8 of Diamonds      King of Clubs      9 of Spades        Ace of Spades      \n",
      "6 of Diamonds      7 of Diamonds      2 of Clubs         7 of Spades        \n",
      "4 of Diamonds      King of Diamonds   4 of Clubs         7 of Clubs         \n",
      "9 of Clubs         10 of Diamonds     8 of Spades        2 of Hearts        \n",
      "\n"
     ]
    }
   ],
   "source": [
    "print(deck_of_cards)"
   ]
  },
  {
   "cell_type": "code",
   "execution_count": 7,
   "id": "aae4dba7-33b7-49ec-be98-0626403e636c",
   "metadata": {},
   "outputs": [
    {
     "data": {
      "text/plain": [
       "Card(face='Ace', suit='Diamonds')"
      ]
     },
     "execution_count": 7,
     "metadata": {},
     "output_type": "execute_result"
    }
   ],
   "source": [
    "deck_of_cards.deal_card()"
   ]
  },
  {
   "cell_type": "code",
   "execution_count": 8,
   "id": "e9862f0a-700d-4744-9fa4-627c1eac6904",
   "metadata": {},
   "outputs": [],
   "source": [
    "card = deck_of_cards.deal_card()"
   ]
  },
  {
   "cell_type": "code",
   "execution_count": 9,
   "id": "6531f37e-4cf1-4cfe-a911-cc0063188884",
   "metadata": {},
   "outputs": [
    {
     "data": {
      "text/plain": [
       "'Queen of Clubs'"
      ]
     },
     "execution_count": 9,
     "metadata": {},
     "output_type": "execute_result"
    }
   ],
   "source": [
    "str(card)"
   ]
  },
  {
   "cell_type": "code",
   "execution_count": 10,
   "id": "f39fcc21-d6de-4ca1-8caa-a8309ed83322",
   "metadata": {},
   "outputs": [
    {
     "data": {
      "text/plain": [
       "'Queen_of_Clubs.png'"
      ]
     },
     "execution_count": 10,
     "metadata": {},
     "output_type": "execute_result"
    }
   ],
   "source": [
    "card.image_name"
   ]
  },
  {
   "cell_type": "code",
   "execution_count": 14,
   "id": "d881c46b-78cc-4c47-8ec4-e7a1dc569cb0",
   "metadata": {},
   "outputs": [],
   "source": [
    "# card.py\n",
    "\"\"\"Card class that represents a playing card and its image file name.\"\"\"\n",
    "\n",
    "class Card:\n",
    "    FACES = ['Ace', '2', '3', '4', '5', '6',\n",
    "               '7', '8', '9', '10', 'Jack', 'Queen', 'King']\n",
    "    SUITS = ['Hearts', 'Diamonds', 'Clubs', 'Spades']\n",
    "\n",
    "    def __init__(self, face, suit):\n",
    "        \"\"\"Initialize a Card with a face and suit.\"\"\"\n",
    "        self._face = face\n",
    "        self._suit = suit\n",
    "\n",
    "        @property\n",
    "        def face(self):\n",
    "            \"\"\"Return the Card's self._face value.\"\"\"\n",
    "            return self._face\n",
    "\n",
    "        @property\n",
    "        def suit(self):\n",
    "            \"\"\"Return the Card's self._suit value.\"\"\"\n",
    "            return self._suit\n",
    "\n",
    "        @property\n",
    "        def image_name(self):\n",
    "            \"\"\"Return the Card's image file name.\"\"\"\n",
    "            return str(self).replace(' ', '_') + '.png'\n",
    "        def __repr__(self):\n",
    "            \"\"\"Return string representation for repr().\"\"\"\n",
    "            return f\"Card(face='{self.face}', suit='{self.suit}')\"\n",
    "\n",
    "        def __str__(self):\n",
    "            \"\"\"Return string representation for str().\"\"\"         \n",
    "            return f'{self.face} of {self.suit}'\n",
    "\n",
    "        def __format__(self, format):\n",
    "            \"\"\"Return formatted string representation for str().\"\"\"\n",
    "            return f'{str(self):{format}}'"
   ]
  },
  {
   "cell_type": "code",
   "execution_count": 51,
   "id": "b9d65573-1007-45d0-a6ed-8e673123d839",
   "metadata": {},
   "outputs": [],
   "source": [
    "# deck.py\n",
    "\"\"\"Deck class represents a deck of Cards.\"\"\"\n",
    "import random\n",
    "from card import Card\n",
    "\n",
    "class DeckOfCards:\n",
    "    NUMBER_OF_CARDS = 52 # constant number of Cards\n",
    "    \n",
    "    def __init__(self):\n",
    "        \"\"\"Initialize the deck.\"\"\"\n",
    "        self._current_card = 0\n",
    "        self._deck = []\n",
    "\n",
    "        for count in range(DeckOfCards.NUMBER_OF_CARDS):\n",
    "            self._deck.append(Card(Card.FACES[count % 13],\n",
    "                                   Card.SUITS[count // 13]))\n",
    "            def shuffle(self):\n",
    "                \"\"\"Shuffle deck.\"\"\"\n",
    "                self._current_card = 0\n",
    "                random.shuffle(self._deck)\n",
    "                \n",
    "            def deal_card(self):\n",
    "                \"\"\"Return one Card.\"\"\"\n",
    "                try:\n",
    "                    card = self._deck[self._current_card]\n",
    "                    self._current_card += 1\n",
    "                    return card\n",
    "                except:\n",
    "                    return None\n",
    "                def __str__(self):\n",
    "                    \"\"\"Return a string representation of the current _deck.\"\"\"\n",
    "                    s = ''\n",
    "                    \n",
    "                    for index, card in enumerate(self._deck):\\\n",
    "                    s += f'{self._deck[index]:<19}'\n",
    "                    if (index + 1) % 4 == 0:\n",
    "                        s += '\\n'\\\n",
    "                        \n",
    "                        return s"
   ]
  },
  {
   "cell_type": "code",
   "execution_count": 52,
   "id": "cd141ba3-760a-47c4-8d61-448041ce9e11",
   "metadata": {},
   "outputs": [],
   "source": [
    "from deck import DeckOfCards"
   ]
  },
  {
   "cell_type": "code",
   "execution_count": 53,
   "id": "0cb4643c-e22f-4979-974c-7e15a743a300",
   "metadata": {},
   "outputs": [],
   "source": [
    "deck_of_cards = DeckOfCards()"
   ]
  },
  {
   "cell_type": "code",
   "execution_count": 54,
   "id": "2f8b4acd-fef3-45f3-9fca-a3c7d8cb1230",
   "metadata": {},
   "outputs": [
    {
     "name": "stdout",
     "output_type": "stream",
     "text": [
      "Using matplotlib backend: MacOSX\n"
     ]
    }
   ],
   "source": [
    "%matplotlib"
   ]
  },
  {
   "cell_type": "code",
   "execution_count": 55,
   "id": "2004c927-7c73-489a-9f86-1726f7dbd286",
   "metadata": {},
   "outputs": [],
   "source": [
    "from pathlib import Path"
   ]
  },
  {
   "cell_type": "code",
   "execution_count": 57,
   "id": "06aa0f80-b743-4595-a19d-218336564940",
   "metadata": {},
   "outputs": [],
   "source": [
    "path = Path('.').joinpath('card_images')"
   ]
  },
  {
   "cell_type": "code",
   "execution_count": 58,
   "id": "57e4b893-1f8d-40d5-9373-f7e2eb610cd0",
   "metadata": {},
   "outputs": [],
   "source": [
    "import matplotlib.pyplot as plt"
   ]
  },
  {
   "cell_type": "code",
   "execution_count": 59,
   "id": "6da0201a-5437-4134-9313-cc9975512c36",
   "metadata": {},
   "outputs": [],
   "source": [
    "import matplotlib.image as mpimg"
   ]
  },
  {
   "cell_type": "code",
   "execution_count": 60,
   "id": "aac27d21-8502-4483-900e-5ffe6cd984c3",
   "metadata": {},
   "outputs": [],
   "source": [
    "figure, axes_list = plt.subplots(nrows=4, ncols=13)"
   ]
  },
  {
   "cell_type": "code",
   "execution_count": 61,
   "id": "81b94256-1244-4e18-a9d7-4f81648444a5",
   "metadata": {},
   "outputs": [],
   "source": [
    "for axes in axes_list.ravel():\n",
    "    axes.get_xaxis().set_visible(False)\n",
    "    axes.get_yaxis().set_visible(False)\n",
    "    image_name = deck_of_cards.deal_card().image_name\n",
    "    img = mpimg.imread(str(path.joinpath(image_name).resolve()))\n",
    "    axes.imshow(img)"
   ]
  },
  {
   "cell_type": "code",
   "execution_count": 62,
   "id": "c437eb95-adc1-446c-ada9-558ee06f672b",
   "metadata": {},
   "outputs": [],
   "source": [
    "figure.tight_layout()"
   ]
  },
  {
   "cell_type": "code",
   "execution_count": 63,
   "id": "3252d37a-a4b4-4b43-8a85-40a642f6191d",
   "metadata": {},
   "outputs": [],
   "source": [
    "deck_of_cards.shuffle()"
   ]
  },
  {
   "cell_type": "code",
   "execution_count": 64,
   "id": "e11186c1-ad61-4532-8aca-7d3e82caf104",
   "metadata": {},
   "outputs": [],
   "source": [
    "for axes in axes_list.ravel():\n",
    "    axes.get_xaxis().set_visible(False)\n",
    "    axes.get_yaxis().set_visible(False)\n",
    "    image_name = deck_of_cards.deal_card().image_name\n",
    "    img = mpimg.imread(str(path.joinpath(image_name).resolve()))\n",
    "    axes.imshow(img)"
   ]
  },
  {
   "cell_type": "code",
   "execution_count": 65,
   "id": "fd3adafa-0bfa-43d7-b719-ca898ed29ac5",
   "metadata": {},
   "outputs": [],
   "source": [
    "deck_of_cards.shuffle()"
   ]
  },
  {
   "cell_type": "code",
   "execution_count": 66,
   "id": "f6a14165-13c4-4618-9aa8-d3c885aa0f92",
   "metadata": {},
   "outputs": [],
   "source": [
    "figure, axes_list = plt.subplots(nrows=2, ncols=5)"
   ]
  },
  {
   "cell_type": "code",
   "execution_count": 67,
   "id": "39575d54-09cf-4500-9a0c-942179dd0f4b",
   "metadata": {},
   "outputs": [],
   "source": [
    "for axes in axes_list.ravel():\n",
    "    axes.get_xaxis().set_visible(False)\n",
    "    axes.get_yaxis().set_visible(False)\n",
    "    image_name = deck_of_cards.deal_card().image_name\n",
    "    img = mpimg.imread(str(path.joinpath(image_name).resolve()))\n",
    "    axes.imshow(img)\n",
    "    figure.tight_layout()"
   ]
  },
  {
   "cell_type": "code",
   "execution_count": null,
   "id": "84441398-5a94-40ea-b218-6662a66500a3",
   "metadata": {},
   "outputs": [],
   "source": [
    "#IvanQuackenbush"
   ]
  }
 ],
 "metadata": {
  "kernelspec": {
   "display_name": "Python 3",
   "language": "python",
   "name": "python3"
  },
  "language_info": {
   "codemirror_mode": {
    "name": "ipython",
    "version": 3
   },
   "file_extension": ".py",
   "mimetype": "text/x-python",
   "name": "python",
   "nbconvert_exporter": "python",
   "pygments_lexer": "ipython3",
   "version": "3.7.13"
  }
 },
 "nbformat": 4,
 "nbformat_minor": 5
}
