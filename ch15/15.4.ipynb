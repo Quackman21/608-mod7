{
 "cells": [
  {
   "cell_type": "code",
   "execution_count": 1,
   "id": "4ead2606-e900-477f-b961-d3890fe1a95b",
   "metadata": {},
   "outputs": [],
   "source": [
    "import pandas as pd"
   ]
  },
  {
   "cell_type": "code",
   "execution_count": 2,
   "id": "9298bd20-3fb6-4c4a-8cc7-b4a3d48b3fed",
   "metadata": {},
   "outputs": [],
   "source": [
    "nyc = pd.read_csv('ave_hi_nyc_jan_1895-2018.csv')"
   ]
  },
  {
   "cell_type": "code",
   "execution_count": 3,
   "id": "7a14d738-a1d2-4b11-a4b1-aa32373c6dd5",
   "metadata": {},
   "outputs": [],
   "source": [
    "nyc.columns = ['Date', 'Temperature', 'Anomaly']"
   ]
  },
  {
   "cell_type": "code",
   "execution_count": 4,
   "id": "6d04aedb-ec53-4c64-b004-ee7fad52a7d6",
   "metadata": {},
   "outputs": [],
   "source": [
    "nyc.Date = nyc.Date.floordiv(100)"
   ]
  },
  {
   "cell_type": "code",
   "execution_count": 5,
   "id": "95bd6883-69f4-49fc-97b5-a8333a1c758a",
   "metadata": {},
   "outputs": [
    {
     "data": {
      "text/html": [
       "<div>\n",
       "<style scoped>\n",
       "    .dataframe tbody tr th:only-of-type {\n",
       "        vertical-align: middle;\n",
       "    }\n",
       "\n",
       "    .dataframe tbody tr th {\n",
       "        vertical-align: top;\n",
       "    }\n",
       "\n",
       "    .dataframe thead th {\n",
       "        text-align: right;\n",
       "    }\n",
       "</style>\n",
       "<table border=\"1\" class=\"dataframe\">\n",
       "  <thead>\n",
       "    <tr style=\"text-align: right;\">\n",
       "      <th></th>\n",
       "      <th>Date</th>\n",
       "      <th>Temperature</th>\n",
       "      <th>Anomaly</th>\n",
       "    </tr>\n",
       "  </thead>\n",
       "  <tbody>\n",
       "    <tr>\n",
       "      <th>0</th>\n",
       "      <td>1895</td>\n",
       "      <td>34.2</td>\n",
       "      <td>-3.2</td>\n",
       "    </tr>\n",
       "    <tr>\n",
       "      <th>1</th>\n",
       "      <td>1896</td>\n",
       "      <td>34.7</td>\n",
       "      <td>-2.7</td>\n",
       "    </tr>\n",
       "    <tr>\n",
       "      <th>2</th>\n",
       "      <td>1897</td>\n",
       "      <td>35.5</td>\n",
       "      <td>-1.9</td>\n",
       "    </tr>\n",
       "  </tbody>\n",
       "</table>\n",
       "</div>"
      ],
      "text/plain": [
       "   Date  Temperature  Anomaly\n",
       "0  1895         34.2     -3.2\n",
       "1  1896         34.7     -2.7\n",
       "2  1897         35.5     -1.9"
      ]
     },
     "execution_count": 5,
     "metadata": {},
     "output_type": "execute_result"
    }
   ],
   "source": [
    "nyc.head(3)"
   ]
  },
  {
   "cell_type": "code",
   "execution_count": 6,
   "id": "fe5e492a-1195-4678-8e84-b630f5b59d28",
   "metadata": {},
   "outputs": [],
   "source": [
    "from sklearn.model_selection import train_test_split"
   ]
  },
  {
   "cell_type": "code",
   "execution_count": 7,
   "id": "4d0b1c9e-0d46-4f31-bae6-17e5ca2d8e6d",
   "metadata": {},
   "outputs": [],
   "source": [
    "X_train, X_test, y_train, y_test = train_test_split(\n",
    "    nyc.Date.values.reshape(-1, 1), nyc.Temperature.values,\n",
    "    random_state=11)"
   ]
  },
  {
   "cell_type": "code",
   "execution_count": 8,
   "id": "469ceaeb-48ac-4959-8630-6ed5eabefcad",
   "metadata": {},
   "outputs": [
    {
     "data": {
      "text/plain": [
       "(93, 1)"
      ]
     },
     "execution_count": 8,
     "metadata": {},
     "output_type": "execute_result"
    }
   ],
   "source": [
    "X_train.shape"
   ]
  },
  {
   "cell_type": "code",
   "execution_count": 9,
   "id": "fde7f0d1-f1dc-439b-81b3-f592a561d4a4",
   "metadata": {},
   "outputs": [
    {
     "data": {
      "text/plain": [
       "(31, 1)"
      ]
     },
     "execution_count": 9,
     "metadata": {},
     "output_type": "execute_result"
    }
   ],
   "source": [
    "X_test.shape"
   ]
  },
  {
   "cell_type": "code",
   "execution_count": 10,
   "id": "b5a37642-da11-431e-86b4-ae661b491e18",
   "metadata": {},
   "outputs": [],
   "source": [
    "from sklearn.linear_model import LinearRegression"
   ]
  },
  {
   "cell_type": "code",
   "execution_count": 11,
   "id": "02a6b87c-5030-4a16-85a6-7aeb412c7a9f",
   "metadata": {},
   "outputs": [],
   "source": [
    "linear_regression = LinearRegression()"
   ]
  },
  {
   "cell_type": "code",
   "execution_count": 12,
   "id": "eb12afdb-e4b7-472c-ba97-f0b819ab233b",
   "metadata": {},
   "outputs": [
    {
     "data": {
      "text/plain": [
       "LinearRegression()"
      ]
     },
     "execution_count": 12,
     "metadata": {},
     "output_type": "execute_result"
    }
   ],
   "source": [
    "linear_regression.fit(X=X_train, y=y_train)"
   ]
  },
  {
   "cell_type": "code",
   "execution_count": 13,
   "id": "502b898b-5290-4df7-9c44-d94584b199c1",
   "metadata": {},
   "outputs": [
    {
     "data": {
      "text/plain": [
       "array([0.01939167])"
      ]
     },
     "execution_count": 13,
     "metadata": {},
     "output_type": "execute_result"
    }
   ],
   "source": [
    "linear_regression.coef_"
   ]
  },
  {
   "cell_type": "code",
   "execution_count": 14,
   "id": "6c28c2c3-a2c3-40ed-bc1b-58d4039b9c13",
   "metadata": {},
   "outputs": [
    {
     "data": {
      "text/plain": [
       "-0.30779820252656265"
      ]
     },
     "execution_count": 14,
     "metadata": {},
     "output_type": "execute_result"
    }
   ],
   "source": [
    "linear_regression.intercept_"
   ]
  },
  {
   "cell_type": "code",
   "execution_count": 15,
   "id": "07c82d20-056a-46b3-b193-c620a09ef6c1",
   "metadata": {},
   "outputs": [],
   "source": [
    "predicted = linear_regression.predict(X_test)"
   ]
  },
  {
   "cell_type": "code",
   "execution_count": 16,
   "id": "4db14ba5-5bf8-4280-a602-83f7dbbbc18c",
   "metadata": {},
   "outputs": [],
   "source": [
    "expected = y_test"
   ]
  },
  {
   "cell_type": "code",
   "execution_count": 17,
   "id": "04badc4b-df51-479c-85a1-3dba2d1a68ad",
   "metadata": {},
   "outputs": [
    {
     "name": "stdout",
     "output_type": "stream",
     "text": [
      "predicted: 37.86, expected: 31.70\n",
      "predicted: 38.69, expected: 34.80\n",
      "predicted: 37.00, expected: 39.40\n",
      "predicted: 37.25, expected: 45.70\n",
      "predicted: 38.05, expected: 32.30\n",
      "predicted: 37.64, expected: 33.80\n",
      "predicted: 36.94, expected: 39.70\n"
     ]
    }
   ],
   "source": [
    "for p, e in zip(predicted[::5], expected[::5]):\n",
    "    print(f'predicted: {p:.2f}, expected: {e:.2f}')"
   ]
  },
  {
   "cell_type": "code",
   "execution_count": 18,
   "id": "194a312e-b13f-4d30-8fc1-8202553ac5b7",
   "metadata": {},
   "outputs": [],
   "source": [
    "predict = (lambda x: linear_regression.coef_ * x +\n",
    "           linear_regression.intercept_)"
   ]
  },
  {
   "cell_type": "code",
   "execution_count": 19,
   "id": "b96c2dcd-6497-4495-838b-b6a81b372bdc",
   "metadata": {},
   "outputs": [
    {
     "data": {
      "text/plain": [
       "array([38.84399018])"
      ]
     },
     "execution_count": 19,
     "metadata": {},
     "output_type": "execute_result"
    }
   ],
   "source": [
    "predict(2019)"
   ]
  },
  {
   "cell_type": "code",
   "execution_count": 20,
   "id": "e3b38684-11da-482b-9f96-3147ed0c121e",
   "metadata": {},
   "outputs": [
    {
     "data": {
      "text/plain": [
       "array([36.34246432])"
      ]
     },
     "execution_count": 20,
     "metadata": {},
     "output_type": "execute_result"
    }
   ],
   "source": [
    "predict(1890)"
   ]
  },
  {
   "cell_type": "code",
   "execution_count": 21,
   "id": "25a908ef-e98c-4e6f-a317-bfe0a948343f",
   "metadata": {},
   "outputs": [],
   "source": [
    "import seaborn as sns"
   ]
  },
  {
   "cell_type": "code",
   "execution_count": 22,
   "id": "cdc7ce7c-48a2-4cdd-bf93-613d5cb3451b",
   "metadata": {},
   "outputs": [
    {
     "data": {
      "image/png": "[encoded data removed]",
      "text/plain": [
       "<Figure size 432x288 with 1 Axes>"
      ]
     },
     "metadata": {
      "needs_background": "light"
     },
     "output_type": "display_data"
    }
   ],
   "source": [
    "axes = sns.scatterplot(data=nyc, x='Date', y='Temperature',\n",
    "                       hue='Temperature', palette='winter', legend=False)"
   ]
  },
  {
   "cell_type": "code",
   "execution_count": 23,
   "id": "2cc69313-0266-4592-983b-18c1d9bf1276",
   "metadata": {},
   "outputs": [
    {
     "data": {
      "text/plain": [
       "(10.0, 70.0)"
      ]
     },
     "execution_count": 23,
     "metadata": {},
     "output_type": "execute_result"
    }
   ],
   "source": [
    "axes.set_ylim(10, 70)"
   ]
  },
  {
   "cell_type": "code",
   "execution_count": 24,
   "id": "04444ee8-fdbc-4950-be3d-a699e58664f7",
   "metadata": {},
   "outputs": [],
   "source": [
    "import numpy as np"
   ]
  },
  {
   "cell_type": "code",
   "execution_count": 25,
   "id": "32af10bc-e2b5-4420-8f10-3ff6d2f9c488",
   "metadata": {},
   "outputs": [],
   "source": [
    "x = np.array([min(nyc.Date.values), max(nyc.Date.values)])"
   ]
  },
  {
   "cell_type": "code",
   "execution_count": 26,
   "id": "8b85c230-c304-42f3-bc11-3f07126260ad",
   "metadata": {},
   "outputs": [],
   "source": [
    "y = predict(x)"
   ]
  },
  {
   "cell_type": "code",
   "execution_count": 27,
   "id": "f20602d1-0446-45ae-9d03-301fc598e22e",
   "metadata": {},
   "outputs": [],
   "source": [
    "import matplotlib.pyplot as plt"
   ]
  },
  {
   "cell_type": "code",
   "execution_count": 28,
   "id": "f38955ed-a752-4d25-bc62-6671087c65b3",
   "metadata": {},
   "outputs": [
    {
     "data": {
      "image/png": "[encoded data removed]",
      "text/plain": [
       "<Figure size 432x288 with 1 Axes>"
      ]
     },
     "metadata": {
      "needs_background": "light"
     },
     "output_type": "display_data"
    }
   ],
   "source": [
    "line = plt.plot(x, y)"
   ]
  },
  {
   "cell_type": "code",
   "execution_count": 29,
   "id": "1d3e6881-affb-46e6-9941-cd856642216d",
   "metadata": {},
   "outputs": [
    {
     "data": {
      "text/plain": [
       "array([36.32307265])"
      ]
     },
     "execution_count": 29,
     "metadata": {},
     "output_type": "execute_result"
    }
   ],
   "source": [
    "predict(1889)"
   ]
  },
  {
   "cell_type": "code",
   "execution_count": 30,
   "id": "879536ca-1cf4-42ee-90fc-2fc494bc8294",
   "metadata": {},
   "outputs": [
    {
     "data": {
      "text/plain": [
       "array([40.41471572])"
      ]
     },
     "execution_count": 30,
     "metadata": {},
     "output_type": "execute_result"
    }
   ],
   "source": [
    "predict(2100)"
   ]
  },
  {
   "cell_type": "code",
   "execution_count": 31,
   "id": "00d5727f-0e57-4f25-adea-1e6425feb82d",
   "metadata": {},
   "outputs": [],
   "source": [
    "#IvanQuackenbush"
   ]
  },
  {
   "cell_type": "code",
   "execution_count": null,
   "id": "11db80da-83ee-45b6-863c-9a01eab8b707",
   "metadata": {},
   "outputs": [],
   "source": []
  }
 ],
 "metadata": {
  "kernelspec": {
   "display_name": "Python 3",
   "language": "python",
   "name": "python3"
  },
  "language_info": {
   "codemirror_mode": {
    "name": "ipython",
    "version": 3
   },
   "file_extension": ".py",
   "mimetype": "text/x-python",
   "name": "python",
   "nbconvert_exporter": "python",
   "pygments_lexer": "ipython3",
   "version": "3.7.13"
  }
 },
 "nbformat": 4,
 "nbformat_minor": 5
}
